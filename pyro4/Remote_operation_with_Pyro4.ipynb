{
 "cells": [
  {
   "cell_type": "markdown",
   "metadata": {},
   "source": [
    "# <center> Running remotely using Pyro4\n",
    "### <center> In this demo you will learn how to run the low-level software on the QICK as a server, and \"proxy\" it over the network to a separate client computer that runs the high-level software."
   ]
  },
  {
   "cell_type": "markdown",
   "metadata": {},
   "source": [
    "Pyro4 is a software package that lets you \"proxy\" a Python object so it can be accessed from another computer.\n",
    "\n",
    "https://pyro4.readthedocs.io/en/stable/intro.html\n",
    "\n",
    "we can use Pyro4 to proxy the QickSoc object. This allows you to take any of the demo notebooks and run it on a different computer, and all you need to do is replace the `QickSoc()` initialization with some Pyro4 initialization.\n",
    "\n",
    "## Pros and cons\n",
    "There are advantages to using Pyro4:\n",
    "* The QickSoc doesn't get reinitialized every time you restart your notebook. If your experiment cares about the readout phase, which gets reset and must be recalibrated every time the FPGA gets reprogrammed, this is a big deal.\n",
    "* You can write and run your QickProgram (or AveragerProgram/RAveragerProgram) on any computer. If you're used to using a graphical IDE, or you want to run your programs in an environment other than what's available on the QICK (i.e. Jupyter notebooks and command-line scripts over SSH), this is a big deal. Your PC is probably also more responsive than the QICK (which has approximately the CPU/RAM/storage performance of a Raspberry Pi).\n",
    "\n",
    "But there are disadvantages that you should be aware of:\n",
    "* There's some overhead: you need to start a nameserver and server in addition to what you would normally do.\n",
    "* Debugging is harder, because exceptions on the server don't get printed on the client (you just get a generic Pyro4 error) without some extra work: https://pyro4.readthedocs.io/en/stable/errors.html\n",
    "* Any messages printed by QickSoc code only show up on the server.\n",
    "* Pyro4 only proxies methods and specially registered properties of the QickSoc. This means that you can't access all the members of the QickSoc (e.g. the readout and generator objects). The demos are written to avoid Pyro4-incompatible operations, but you may have code that needs to be rewritten.\n",
    "* It's easy to lose track of which version of the QICK library you have installed in which place.\n",
    "\n",
    "## Overview, requirements\n",
    "There are three components to a Pyro4 setup: the nameserver, the server (also known as the daemon), and the client. Start them in this order.\n",
    "\n",
    "The server must run on the QICK, but the nameserver and client can be anywhere. To keep things self-contained, this demo is structured to put everything on the QICK, but we note what you would do differently if running the nameserver and/or client elsewhere.\n",
    "\n",
    "The nameserver, server, and client must all be on the same network - a lab LAN is fine. Tailscale (http://tailscale.com/) works well in the case where everything has Internet access, but not everything is on the same LAN.\n",
    "\n",
    "You need to install pyro4, both on the QICK and the computer(s) running the nameserver and client - it's a Python module, available through pip (`sudo pip3 install Pyro4`) or apt (`sudo apt install python3-pyro4`).\n",
    "\n",
    "The nameserver and server run continuously, so if you want to run them in Jupyter notebooks you need to use separate notebooks for the nameserver, server, and client. Alternatively, you could run the nameserver and server as command-line scripts (also provided here) which you would run over SSH, perhaps using a tool such as `screen` which provides persistent terminal sessions that survive loss of an SSH connection."
   ]
  },
  {
   "cell_type": "markdown",
   "metadata": {},
   "source": [
    "## Nameserver\n",
    "The nameserver is how the client finds the server. You should only run one nameserver on a network.\n",
    "\n",
    "##### Hostname\n",
    "The hostname defines how clients and servers can connect to the nameserver. Specify the hostname or IP address that both the client and server will use to connect to the nameserver (if you're running everything on the QICK you could specify \"localhost\" or \"127.0.0.1\" to restrict access to programs running locally). \"0.0.0.0\" means that the nameserver listens on all available network interfaces, which is usually what you want (but might not work in all cases?).\n",
    "\n",
    "##### Port\n",
    "Because the default nameserver port (9090) conflicts with the port PYNQ uses for the Jupyter notebook server, we use port 8888 in this demo. If you put the nameserver elsewhere, you might prefer to use the default port and save a few lines of code. In this case you would not define the ns_port variable and omit that parameter in the `pyro4-ns` and `locateNS()` commands.\n",
    "\n",
    "### Running the nameserver\n",
    "To run the nameserver, run the following shell command (either in an SSH session or a separate notebook):\n",
    "```\n",
    "PYRO_SERIALIZERS_ACCEPTED=pickle PYRO_PICKLE_PROTOCOL_VERSION=4 pyro4-ns -n 0.0.0.0 -p 8888\n",
    "```\n",
    "\n",
    "There's also a script in this directory, which takes the same options (again, this could run over SSH or in a notebook):\n",
    "```\n",
    "./nameserver.sh -n 0.0.0.0 -p 8888\n",
    "```\n",
    "\n",
    "Typical output looks like this:\n",
    "\n",
    "```\n",
    "xilinx@pynq216:~$ export PYRO_SERIALIZERS_ACCEPTED=pickle PYRO_PICKLE_PROTOCOL_VERSION=4 pyro4-ns -n 0.0.0.0 -p 8888\n",
    "Broadcast server running on 0.0.0.0:9091\n",
    "NS running on 0.0.0.0:8888 (0.0.0.0)\n",
    "Warning: HMAC key not set. Anyone can connect to this server!\n",
    "URI = PYRO:Pyro.NameServer@0.0.0.0:8888\n",
    "```\n",
    "\n",
    "The nameserver doesn't print anything when servers and clients connect to it - don't worry! Leave it running."
   ]
  },
  {
   "cell_type": "markdown",
   "metadata": {},
   "source": [
    "## Server\n",
    "The server runs the QickSoc code and exposes it to the network. \n",
    "\n",
    "You can choose whatever server name you want, as long as you use the same one on the client. You could run multiple QICKs, each with a Pyro4 server, using different server names.\n",
    "\n",
    "You can use the notebook cell below (copy it into another notebook so you can leave it running), or the script in this directory (use `-h` for help), which must run as root:\n",
    "\n",
    "```\n",
    "sudo ./server.py myqick -n localhost -p 8888\n",
    "```"
   ]
  },
  {
   "cell_type": "code",
   "execution_count": null,
   "metadata": {},
   "outputs": [],
   "source": [
    "import Pyro4\n",
    "from qick import QickSoc\n",
    "\n",
    "ns_host = \"localhost\"\n",
    "ns_port = 8888\n",
    "server_name = \"myqick\"\n",
    "\n",
    "print(\"looking for nameserver . . .\")\n",
    "Pyro4.config.REQUIRE_EXPOSE = False\n",
    "Pyro4.config.SERIALIZER = \"pickle\"\n",
    "Pyro4.config.SERIALIZERS_ACCEPTED=set(['pickle'])\n",
    "Pyro4.config.PICKLE_PROTOCOL_VERSION=4\n",
    "ns = Pyro4.locateNS(host=ns_host, port=ns_port)\n",
    "print(\"found nameserver\")\n",
    "\n",
    "# if we have multiple network interfaces, we want to register the daemon using the IP address that faces the nameserver\n",
    "host = Pyro4.socketutil.getInterfaceAddress(ns._pyroUri.host)\n",
    "daemon = Pyro4.Daemon(host=host)\n",
    "\n",
    "# if you want to use a different firmware image or set some initialization options, you would do that here\n",
    "soc = QickSoc()\n",
    "print(\"initialized QICK\")\n",
    "\n",
    "# register the QickSoc in the daemon (so the daemon exposes the QickSoc over Pyro4)\n",
    "# and in the nameserver (so the client can find the QickSoc)\n",
    "ns.register(server_name, daemon.register(soc))\n",
    "print(\"registered QICK\")\n",
    "\n",
    "# register in the daemon all the objects we expose as properties of the QickSoc\n",
    "# we don't register them in the nameserver, since they are only meant to be accessed through the QickSoc proxy\n",
    "# https://pyro4.readthedocs.io/en/stable/servercode.html#autoproxying\n",
    "# https://github.com/irmen/Pyro4/blob/master/examples/autoproxy/server.py\n",
    "for obj in soc.autoproxy:\n",
    "    daemon.register(obj)\n",
    "    print(\"registered member \"+str(obj))\n",
    "    \n",
    "print(\"starting daemon\")\n",
    "daemon.requestLoop() # this will run forever until interrupted"
   ]
  },
  {
   "cell_type": "markdown",
   "metadata": {},
   "source": [
    "## Client\n",
    "The client controls the experiment. The client doesn't need the PYNQ device drivers, so it can be a Linux or Windows PC (you should be able to install the QICK libraries as usual, the PYNQ library will be skipped on systems that don't support it).\n",
    "\n",
    "The cells below contain the initialization code that replace the typical initialization steps of:\n",
    "```\n",
    "from qick import QickSoc\n",
    "soc = QickSoc()\n",
    "soccfg = soc\n",
    "```"
   ]
  },
  {
   "cell_type": "code",
   "execution_count": 3,
   "metadata": {},
   "outputs": [
    {
     "data": {
      "application/javascript": [
       "\n",
       "try {\n",
       "require(['notebook/js/codecell'], function(codecell) {\n",
       "  codecell.CodeCell.options_default.highlight_modes[\n",
       "      'magic_text/x-csrc'] = {'reg':[/^%%microblaze/]};\n",
       "  Jupyter.notebook.events.one('kernel_ready.Kernel', function(){\n",
       "      Jupyter.notebook.get_cells().map(function(cell){\n",
       "          if (cell.cell_type == 'code'){ cell.auto_highlight(); } }) ;\n",
       "  });\n",
       "});\n",
       "} catch (e) {};\n"
      ]
     },
     "metadata": {},
     "output_type": "display_data"
    },
    {
     "data": {
      "application/javascript": [
       "\n",
       "try {\n",
       "require(['notebook/js/codecell'], function(codecell) {\n",
       "  codecell.CodeCell.options_default.highlight_modes[\n",
       "      'magic_text/x-csrc'] = {'reg':[/^%%pybind11/]};\n",
       "  Jupyter.notebook.events.one('kernel_ready.Kernel', function(){\n",
       "      Jupyter.notebook.get_cells().map(function(cell){\n",
       "          if (cell.cell_type == 'code'){ cell.auto_highlight(); } }) ;\n",
       "  });\n",
       "});\n",
       "} catch (e) {};\n"
      ]
     },
     "metadata": {},
     "output_type": "display_data"
    }
   ],
   "source": [
    "import Pyro4\n",
    "from qick import QickConfig\n",
    "Pyro4.config.SERIALIZER = \"pickle\"\n",
    "Pyro4.config.PICKLE_PROTOCOL_VERSION=4\n",
    "\n",
    "ns_host = \"localhost\"\n",
    "ns_port = 8888\n",
    "server_name = \"myqick\"\n",
    "\n",
    "ns = Pyro4.locateNS(host=ns_host, port=ns_port)"
   ]
  },
  {
   "cell_type": "markdown",
   "metadata": {},
   "source": [
    "Let's see what is registered on the nameserver:"
   ]
  },
  {
   "cell_type": "code",
   "execution_count": 4,
   "metadata": {},
   "outputs": [
    {
     "name": "stdout",
     "output_type": "stream",
     "text": [
      "Pyro.NameServer PYRO:Pyro.NameServer@0.0.0.0:8888\n",
      "myqick PYRO:obj_f90d361dab334faa8318e41b5810cb04@127.0.0.1:44659\n"
     ]
    }
   ],
   "source": [
    "# print the nameserver entries: you should see the QickSoc proxy\n",
    "for k,v in ns.list().items():\n",
    "    print(k,v)"
   ]
  },
  {
   "cell_type": "markdown",
   "metadata": {},
   "source": [
    "Now, connect to the server. The Proxy object replaces the QickSoc in your code. There's one additional step: you need to create a QickConfig object that contains all the information necessary to compile programs.\n",
    "\n",
    "In the demo notebooks both `soc` and `soccfg` point to the same QickSoc object; when using Pyro, `soc` is a Proxy object and `soccfg` is a QickConfig object."
   ]
  },
  {
   "cell_type": "code",
   "execution_count": 5,
   "metadata": {},
   "outputs": [
    {
     "name": "stdout",
     "output_type": "stream",
     "text": [
      "\n",
      "QICK configuration:\n",
      "\n",
      "\tBoard: ZCU216\n",
      "\n",
      "\tGlobal clocks (MHz): tProcessor 430.080, RF reference 245.760\n",
      "\n",
      "\t7 signal generator channels:\n",
      "\t0:\taxis_signal_gen_v4 - tProc output 1, switch ch 0, maxlen 65536\n",
      "\t\tDAC tile 2, ch 0, 32-bit DDS, fabric=430.080 MHz, fs=6881.280 MHz\n",
      "\t1:\taxis_signal_gen_v4 - tProc output 2, switch ch 1, maxlen 65536\n",
      "\t\tDAC tile 2, ch 1, 32-bit DDS, fabric=430.080 MHz, fs=6881.280 MHz\n",
      "\t2:\taxis_signal_gen_v4 - tProc output 3, switch ch 2, maxlen 65536\n",
      "\t\tDAC tile 2, ch 2, 32-bit DDS, fabric=430.080 MHz, fs=6881.280 MHz\n",
      "\t3:\taxis_signal_gen_v4 - tProc output 4, switch ch 3, maxlen 65536\n",
      "\t\tDAC tile 2, ch 3, 32-bit DDS, fabric=430.080 MHz, fs=6881.280 MHz\n",
      "\t4:\taxis_signal_gen_v4 - tProc output 5, switch ch 4, maxlen 65536\n",
      "\t\tDAC tile 3, ch 0, 32-bit DDS, fabric=430.080 MHz, fs=6881.280 MHz\n",
      "\t5:\taxis_signal_gen_v4 - tProc output 6, switch ch 5, maxlen 65536\n",
      "\t\tDAC tile 3, ch 1, 32-bit DDS, fabric=430.080 MHz, fs=6881.280 MHz\n",
      "\t6:\taxis_signal_gen_v4 - tProc output 7, switch ch 6, maxlen 65536\n",
      "\t\tDAC tile 3, ch 2, 32-bit DDS, fabric=430.080 MHz, fs=6881.280 MHz\n",
      "\n",
      "\t2 readout channels:\n",
      "\t0:\tADC tile 2, ch 0, 32-bit DDS, fabric=307.200 MHz, fs=2457.600 MHz\n",
      "\t\tmaxlen 16384 (avg) 1024 (decimated), trigger 14, tProc input 0\n",
      "\t1:\tADC tile 2, ch 2, 32-bit DDS, fabric=307.200 MHz, fs=2457.600 MHz\n",
      "\t\tmaxlen 16384 (avg) 1024 (decimated), trigger 15, tProc input 1\n"
     ]
    }
   ],
   "source": [
    "soc = Pyro4.Proxy(ns.lookup(server_name))\n",
    "soccfg = QickConfig(soc.get_cfg())\n",
    "print(soccfg)"
   ]
  }
 ],
 "metadata": {
  "kernelspec": {
   "display_name": "Python 3",
   "language": "python",
   "name": "python3"
  },
  "language_info": {
   "codemirror_mode": {
    "name": "ipython",
    "version": 3
   },
   "file_extension": ".py",
   "mimetype": "text/x-python",
   "name": "python",
   "nbconvert_exporter": "python",
   "pygments_lexer": "ipython3",
   "version": "3.8.2"
  }
 },
 "nbformat": 4,
 "nbformat_minor": 2
}
